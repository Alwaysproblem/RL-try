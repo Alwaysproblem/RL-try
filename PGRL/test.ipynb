{
 "metadata": {
  "language_info": {
   "codemirror_mode": {
    "name": "ipython",
    "version": 3
   },
   "file_extension": ".py",
   "mimetype": "text/x-python",
   "name": "python",
   "nbconvert_exporter": "python",
   "pygments_lexer": "ipython3",
   "version": "3.7.6"
  },
  "orig_nbformat": 2,
  "kernelspec": {
   "name": "python376jvsc74a57bd0f3cb4b5a3814328a1a6c8d8ee021430a039f12c02d283ad000d192c255e766b8",
   "display_name": "Python 3.7.6 64-bit ('gym': conda)"
  }
 },
 "nbformat": 4,
 "nbformat_minor": 2,
 "cells": [
  {
   "cell_type": "code",
   "execution_count": 1,
   "metadata": {},
   "outputs": [],
   "source": [
    "import tensorflow as tf \n",
    "import numpy as np"
   ]
  },
  {
   "cell_type": "code",
   "execution_count": 2,
   "metadata": {},
   "outputs": [],
   "source": [
    "def discount_rewards(rewards, gamma=0.99, dtype=tf.float32):\n",
    "    discounted_rewards = [0] * len(rewards)\n",
    "    # discounted_rewards = tf.zeros_like(rewards, dtype=dtype)\n",
    "    running_add = tf.constant(0., dtype=dtype)\n",
    "    for t in reversed(range(0, len(rewards))):\n",
    "        running_add = running_add * gamma + rewards[t]\n",
    "        discounted_rewards[t] = running_add\n",
    "    discounted_rewards = tf.stack(discounted_rewards)\n",
    "    return discounted_rewards"
   ]
  },
  {
   "cell_type": "code",
   "execution_count": 7,
   "metadata": {},
   "outputs": [
    {
     "output_type": "execute_result",
     "data": {
      "text/plain": [
       "<tf.Tensor: shape=(5,), dtype=float32, numpy=\n",
       "array([4.9009953, 3.940399 , 2.9701   , 1.99     , 1.       ],\n",
       "      dtype=float32)>"
      ]
     },
     "metadata": {},
     "execution_count": 7
    }
   ],
   "source": [
    "a = discount_rewards([1, 1, 1, 1, 1])\n",
    "a"
   ]
  },
  {
   "cell_type": "code",
   "execution_count": 8,
   "metadata": {},
   "outputs": [
    {
     "output_type": "execute_result",
     "data": {
      "text/plain": [
       "(<tf.Tensor: shape=(5,), dtype=float32, numpy=\n",
       " array([0.67112947, 0.5395879 , 0.4067177 , 0.27250537, 0.13693738],\n",
       "       dtype=float32)>,\n",
       " <tf.Tensor: shape=(1,), dtype=float32, numpy=array([7.302608], dtype=float32)>)"
      ]
     },
     "metadata": {},
     "execution_count": 8
    }
   ],
   "source": [
    "tf.linalg.normalize(a)"
   ]
  },
  {
   "cell_type": "code",
   "execution_count": null,
   "metadata": {},
   "outputs": [],
   "source": [
    "tf.math.reduce_sum([[0, 1.1], [9, 8.9]], axis=1, keepdims=True)"
   ]
  },
  {
   "cell_type": "code",
   "execution_count": 9,
   "metadata": {},
   "outputs": [],
   "source": [
    "def monte_carlo_estimates_fn(rewards, gamma=0.99, dtype=tf.float32):\n",
    "    discounted_rewards = [0] * len(rewards)\n",
    "    # discounted_rewards = tf.zeros_like(rewards, dtype=dtype)\n",
    "    running_add = tf.constant([0.], dtype=dtype)\n",
    "    for t in reversed(range(0, len(rewards))):\n",
    "        running_add = running_add * gamma + rewards[t]\n",
    "        discounted_rewards[t] = running_add\n",
    "    discounted_rewards = tf.stack(discounted_rewards)\n",
    "    return discounted_rewards"
   ]
  },
  {
   "cell_type": "code",
   "execution_count": 11,
   "metadata": {},
   "outputs": [
    {
     "output_type": "execute_result",
     "data": {
      "text/plain": [
       "<tf.Tensor: shape=(5, 1), dtype=float32, numpy=\n",
       "array([[4.9009953],\n",
       "       [3.940399 ],\n",
       "       [2.9701   ],\n",
       "       [1.99     ],\n",
       "       [1.       ]], dtype=float32)>"
      ]
     },
     "metadata": {},
     "execution_count": 11
    }
   ],
   "source": [
    "b = monte_carlo_estimates_fn([1, 1, 1, 1, 1])\n",
    "b"
   ]
  },
  {
   "cell_type": "code",
   "execution_count": 12,
   "metadata": {},
   "outputs": [
    {
     "output_type": "execute_result",
     "data": {
      "text/plain": [
       "(<tf.Tensor: shape=(5, 1), dtype=float32, numpy=\n",
       " array([[0.67112947],\n",
       "        [0.5395879 ],\n",
       "        [0.4067177 ],\n",
       "        [0.27250537],\n",
       "        [0.13693738]], dtype=float32)>,\n",
       " <tf.Tensor: shape=(1, 1), dtype=float32, numpy=array([[7.302608]], dtype=float32)>)"
      ]
     },
     "metadata": {},
     "execution_count": 12
    }
   ],
   "source": [
    "tf.linalg.normalize(b)"
   ]
  },
  {
   "cell_type": "code",
   "execution_count": null,
   "metadata": {},
   "outputs": [],
   "source": []
  }
 ]
}